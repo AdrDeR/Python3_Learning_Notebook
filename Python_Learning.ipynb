{
 "cells": [
  {
   "cell_type": "markdown",
   "metadata": {},
   "source": [
    "# Grundlagen Python 3 Programmierung"
   ]
  },
  {
   "cell_type": "markdown",
   "metadata": {},
   "source": [
    "## Benutzereingabe / Benutzerinput"
   ]
  },
  {
   "cell_type": "code",
   "execution_count": 2,
   "metadata": {},
   "outputs": [
    {
     "name": "stdout",
     "output_type": "stream",
     "text": [
      "Kommazahl: 3.5\n",
      "Die Eingabe war: 3.5\n",
      "3.5\n"
     ]
    },
    {
     "data": {
      "text/plain": [
       "3.5"
      ]
     },
     "execution_count": 2,
     "metadata": {},
     "output_type": "execute_result"
    }
   ],
   "source": [
    "my_var = input(\"Kommazahl: \")\n",
    "f = float(my_var) \n",
    "print(\"Die Eingabe war:\",my_var) # Gibt den String aus\n",
    "print(my_var) # würde nur den String ausgeben\n",
    "float(my_var) # Umwandeln von ASCII in float typ"
   ]
  },
  {
   "cell_type": "markdown",
   "metadata": {},
   "source": [
    "Umwandlung von String in Zahl erfolgt mit float(string)"
   ]
  },
  {
   "cell_type": "code",
   "execution_count": 1,
   "metadata": {},
   "outputs": [
    {
     "name": "stdout",
     "output_type": "stream",
     "text": [
      " x = 4\n",
      " y = 3\n",
      "x+y = 7.0\n",
      "x-y = 1.0\n"
     ]
    }
   ],
   "source": [
    "x = float(input(\" x = \"))\n",
    "y = float(input(\" y = \"))\n",
    "print(\"x+y =\", x+y)\n",
    "print(\"x-y =\", x-y)"
   ]
  },
  {
   "cell_type": "markdown",
   "metadata": {},
   "source": [
    "Was passiert, wenn ich ber keine Zahl eingebe?\n",
    "Das Programm stürzt ab und eine Fehlermeldung wird ausgegeben:\n",
    "\n",
    "ValueError                                Traceback (most recent call last)\n",
    "<ipython-input-1-c7c45b9303a3> in <module>()\n",
    "----> 1 a = float(input(\" a = \"))\n",
    "\n",
    "Um solche Fälle abzufangen, muss der Code abgesichert werden mit einem \"try-excpet block\""
   ]
  },
  {
   "cell_type": "code",
   "execution_count": 5,
   "metadata": {
    "scrolled": true
   },
   "outputs": [
    {
     "name": "stdout",
     "output_type": "stream",
     "text": [
      "Eingabe: w\n"
     ]
    },
    {
     "ename": "SystemExit",
     "evalue": "",
     "output_type": "error",
     "traceback": [
      "An exception has occurred, use %tb to see the full traceback.\n",
      "\u001b[1;31mSystemExit\u001b[0m\n"
     ]
    },
    {
     "name": "stderr",
     "output_type": "stream",
     "text": [
      "C:\\Users\\derosa\\AppData\\Local\\Continuum\\anaconda3\\lib\\site-packages\\IPython\\core\\interactiveshell.py:3275: UserWarning: To exit: use 'exit', 'quit', or Ctrl-D.\n",
      "  warn(\"To exit: use 'exit', 'quit', or Ctrl-D.\", stacklevel=1)\n"
     ]
    }
   ],
   "source": [
    "import sys \n",
    "try:\n",
    "    my_var = float(input(\"Eingabe: \")) \n",
    "except ValueError: sys.exit() \n",
    "print(my_var)"
   ]
  },
  {
   "cell_type": "markdown",
   "metadata": {},
   "source": [
    "Nun der obige Code mit Absicherung. Bei der Division gibt es nochmals eine eigene Überprüfung um eine Division durch null zu vermeiden."
   ]
  },
  {
   "cell_type": "code",
   "execution_count": 6,
   "metadata": {},
   "outputs": [
    {
     "name": "stdout",
     "output_type": "stream",
     "text": [
      " x = 7\n",
      " y = 6\n",
      "x+y = 13.0\n",
      "x-y = 1.0\n",
      "x/y = 1.1666666666666667\n"
     ]
    }
   ],
   "source": [
    "import sys \n",
    "try: \n",
    " x = float(input(\" x = \")) \n",
    " y = float(input(\" y = \"))\n",
    "except ValueError:\n",
    " print(\"Fehler: Keine Zahl eingegeben.\")\n",
    " sys.exit() \n",
    "print(\"x+y =\", x+y)\n",
    "print(\"x-y =\", x-y)\n",
    "try:\n",
    " print(\"x/y =\", x/y)\n",
    "except ZeroDivisionError:\n",
    " print(\"Fehler: Division durch 0\")"
   ]
  },
  {
   "cell_type": "markdown",
   "metadata": {},
   "source": [
    "# Ausgabe von Grafiken"
   ]
  },
  {
   "cell_type": "markdown",
   "metadata": {},
   "source": [
    "## Einzelne Koordinaten"
   ]
  },
  {
   "cell_type": "markdown",
   "metadata": {},
   "source": [
    "Um zu plottem benötigen wir die Bibliothek pylab. Wir importieren zunächst mal nur 'plot' und 'axis'"
   ]
  },
  {
   "cell_type": "code",
   "execution_count": 7,
   "metadata": {},
   "outputs": [],
   "source": [
    "from pylab import plot, axis, arange, exp # wir importieren plot, axis, arange und exp\n",
    "# Um alle library inhalte zu importieren, einfach import *. Das ist aber nicht empfehlenswert bei großen Projekten.\n"
   ]
  },
  {
   "cell_type": "markdown",
   "metadata": {},
   "source": [
    "Manchmal möchte man nur einzelne Koordinaten in einem Koordinatensystem darstellen."
   ]
  },
  {
   "cell_type": "code",
   "execution_count": 8,
   "metadata": {},
   "outputs": [
    {
     "data": {
      "text/plain": [
       "[-0.2, 1.2, -0.2, 1.2]"
      ]
     },
     "execution_count": 8,
     "metadata": {},
     "output_type": "execute_result"
    },
    {
     "data": {
      "image/png": "[encoded data removed]",
      "text/plain": [
       "<Figure size 432x288 with 1 Axes>"
      ]
     },
     "metadata": {
      "needs_background": "light"
     },
     "output_type": "display_data"
    }
   ],
   "source": [
    "x = [0, 0, 1, 1] # Koordinatenpaare x,y=(0|0),(0|1), (1|0), (1|1) \n",
    "y = [0, 1, 0, 1]\n",
    "plot(x, y, '+') # an der Koordinatenposition wird das Symbol '+' ausgegeben\n",
    "axis([-0.2, 1.2, -0.2, 1.2])"
   ]
  },
  {
   "cell_type": "markdown",
   "metadata": {},
   "source": [
    "## Funktionen plotten"
   ]
  },
  {
   "cell_type": "markdown",
   "metadata": {},
   "source": [
    "Folgend bauen wir ein Program auf, mit dem wir eine einfache Funktion der From f(x) = m*x+b (Geradengleichung)\n",
    "grafisch ausgeben. Eingabeparameter sollen die Steigung und der y-Achsenabschnitt b sein."
   ]
  },
  {
   "cell_type": "code",
   "execution_count": 23,
   "metadata": {},
   "outputs": [
    {
     "name": "stdout",
     "output_type": "stream",
     "text": [
      "Steigung der Geraden: 1.4\n",
      "Die Steigung ist m = 1.4\n",
      "y-Achsenabschnitt eingeben: 5\n",
      "Der y-Achsenabschnitt ist b = 5.0\n"
     ]
    },
    {
     "data": {
      "image/png": "[encoded data removed]",
      "text/plain": [
       "<Figure size 432x288 with 1 Axes>"
      ]
     },
     "metadata": {
      "needs_background": "light"
     },
     "output_type": "display_data"
    }
   ],
   "source": [
    "from pylab import plot, axis, arange # wir importieren plot, axis, arange\n",
    "import matplotlib.pyplot as plt\n",
    "import numpy as np\n",
    "\n",
    "def my_line(m, b, x):\n",
    "    return m * x + b\n",
    "\n",
    "m = input(\"Steigung der Geraden: \")\n",
    "mf = float(m) \n",
    "print(\"Die Steigung ist m =\",mf) # Gibt die Steigung aus\n",
    "\n",
    "b = input(\"y-Achsenabschnitt eingeben: \")\n",
    "bf = float(b) \n",
    "print(\"Der y-Achsenabschnitt ist b =\",bf) # Gibt den String aus\n",
    "#print(m) # würde nur den String ausgeben\n",
    "#float(m) # Umwandeln von ASCII in float typ\n",
    "\n",
    "x = np.linspace(-10, 10, 10)\n",
    "\n",
    "plt.plot(x, my_line(mf, bf, x), '-')#, x, my_line(mf, bf, x), '--')\n",
    "plt.show()\n",
    "\n",
    "# Speichere die erzeugte Funktion als png file\n",
    "#plt.savefig('testplot.png')\n",
    "\n"
   ]
  },
  {
   "cell_type": "code",
   "execution_count": null,
   "metadata": {
    "scrolled": true
   },
   "outputs": [],
   "source": [
    "from pylab import plot, axis, arange, exp # wir importieren plot, axis, arange und exp\n",
    "\n",
    "x = arange(-2,2,1)  # Granularität = 1 (sehr grob...). Je kleiner (<1) desto feiner\n",
    "y = exp(x)\n",
    "plot(x,y, 'x') # plottet nur an den Punkten der Granularitätsschritte \n",
    "plot(x,y) # plottet eine durchgehende Linie mit der unter arange eingestellten Granularität"
   ]
  },
  {
   "cell_type": "code",
   "execution_count": 6,
   "metadata": {
    "scrolled": false
   },
   "outputs": [
    {
     "data": {
      "text/plain": [
       "[<matplotlib.lines.Line2D at 0x7f258c565978>]"
      ]
     },
     "execution_count": 6,
     "metadata": {},
     "output_type": "execute_result"
    },
    {
     "data": {
      "image/png": "[encoded data removed]",
      "text/plain": [
       "<Figure size 432x288 with 1 Axes>"
      ]
     },
     "metadata": {
      "needs_background": "light"
     },
     "output_type": "display_data"
    }
   ],
   "source": [
    "from pylab import plot, axis, arange, exp # wir importieren plot, axis, arange und exp\n",
    "\n",
    "x = arange(-2,2,0.1)  # Granularität = 0.1\n",
    "y = exp(x) # e-Funktion\n",
    "y2 = x**2 # Parabel\n",
    "plot(x,y, 'x')\n",
    "plot(x,y) # plottet eine durchgehende Linie mit der unter \"arange\" eingestellten Granularität\n",
    "plot(x,y2) # plottet die Parabel\n"
   ]
  },
  {
   "cell_type": "markdown",
   "metadata": {},
   "source": [
    "Koordinatensystewm mit X/Y Achsen zentriert darstellen (wie wir es von der Schule kennen)"
   ]
  },
  {
   "cell_type": "code",
   "execution_count": 9,
   "metadata": {
    "scrolled": true
   },
   "outputs": [
    {
     "data": {
      "image/png": "[encoded data removed]",
      "text/plain": [
       "<Figure size 432x288 with 1 Axes>"
      ]
     },
     "metadata": {
      "needs_background": "light"
     },
     "output_type": "display_data"
    }
   ],
   "source": [
    "import matplotlib.pyplot as plt\n",
    "fig = plt.figure()\n",
    "\n",
    "ax = fig.add_subplot(1, 1, 1)\n",
    "ax.spines['left'].set_position('center')\n",
    "ax.spines['bottom'].set_position('center')\n",
    "ax.spines['right'].set_color('none')\n",
    "ax.spines['top'].set_color('none')\n",
    "ax.xaxis.set_ticks_position('bottom')\n",
    "ax.yaxis.set_ticks_position('left')\n",
    "\n",
    "plt.plot()\n",
    "plt.show()"
   ]
  },
  {
   "cell_type": "code",
   "execution_count": null,
   "metadata": {},
   "outputs": [],
   "source": [
    "Das Beispiel unten zeigt eine Geradenschar mit der Nutzung verschiedener Plotstyles"
   ]
  },
  {
   "cell_type": "code",
   "execution_count": 3,
   "metadata": {},
   "outputs": [
    {
     "data": {
      "image/png": "[encoded data removed]",
      "text/plain": [
       "<Figure size 432x288 with 1 Axes>"
      ]
     },
     "metadata": {
      "needs_background": "light"
     },
     "output_type": "display_data"
    }
   ],
   "source": [
    "import matplotlib.pyplot as plt\n",
    "import numpy as np\n",
    "\n",
    "fig = plt.figure()\n",
    "ax = fig.add_subplot(1, 1, 1)\n",
    "x = np.linspace(-5,5,100)\n",
    "\n",
    "# Koordinatensystem\n",
    "ax.spines['left'].set_position('center')\n",
    "ax.spines['bottom'].set_position('center')\n",
    "ax.spines['right'].set_color('none')\n",
    "ax.spines['top'].set_color('none')\n",
    "ax.xaxis.set_ticks_position('bottom')\n",
    "ax.yaxis.set_ticks_position('left')\n",
    "\n",
    "#Geraden und Koordinatensystem plotten\n",
    "plt.plot(x, 2*x+1, '-r', label='y=2x+1')\n",
    "plt.plot(x, 2*x-1,'-.g', label='y=2x-1')\n",
    "plt.plot(x, 2*x+3,':b', label='y=2x+3')\n",
    "plt.plot(x, 2*x-3,'--m', label='y=2x-3')\n",
    "\n",
    "#plt.legend(loc='upper left')\n",
    "plt.legend(loc='lower right')\n",
    "\n",
    "plt.show()"
   ]
  },
  {
   "cell_type": "markdown",
   "metadata": {},
   "source": [
    "## Symbolisches rechnen / Lösen von Gleichungen"
   ]
  },
  {
   "cell_type": "markdown",
   "metadata": {},
   "source": [
    "Einfaches Beispiel für eine Gleichung mit einer Unbekannten, z.B. x+2x=1 (7-Klässler Niveau :-))"
   ]
  },
  {
   "cell_type": "code",
   "execution_count": 18,
   "metadata": {},
   "outputs": [
    {
     "data": {
      "image/png": "[encoded data removed]",
      "text/latex": [
       "$$\\left \\{ x : \\frac{1}{3}\\right \\}$$"
      ],
      "text/plain": [
       "{x: 1/3}"
      ]
     },
     "execution_count": 18,
     "metadata": {},
     "output_type": "execute_result"
    }
   ],
   "source": [
    "import sympy as sym\n",
    "sym.init_printing()\n",
    "x,y,z = sym.symbols('x,y,z')\n",
    "# Ganz einfaches Beispiel: x+2*x=1\n",
    "f = sym.Eq(x+2*x,1)\n",
    "#g = sym.Eq(x+2*y+z,c1)\n",
    "#h = sym.Eq(-2*x+y,-z)\n",
    "\n",
    "sym.solve([f],(x))"
   ]
  },
  {
   "cell_type": "markdown",
   "metadata": {},
   "source": [
    "Komplexeres beispiel mit drei Gleichungen die auch noch Parameter enthalten!"
   ]
  },
  {
   "cell_type": "code",
   "execution_count": 10,
   "metadata": {
    "scrolled": true
   },
   "outputs": [
    {
     "data": {
      "image/png": "[encoded data removed]",
      "text/latex": [
       "$$\\left [ \\left ( - \\frac{1}{2} + \\frac{\\sqrt{3}}{2}, \\quad c_{1} - \\frac{3 \\sqrt{3}}{2} + \\frac{3}{2}, \\quad - c_{1} - \\frac{5}{2} + \\frac{5 \\sqrt{3}}{2}\\right ), \\quad \\left ( - \\frac{\\sqrt{3}}{2} - \\frac{1}{2}, \\quad c_{1} + \\frac{3}{2} + \\frac{3 \\sqrt{3}}{2}, \\quad - c_{1} - \\frac{5 \\sqrt{3}}{2} - \\frac{5}{2}\\right )\\right ]$$"
      ],
      "text/plain": [
       "⎡⎛  1   √3       3⋅√3   3        5   5⋅√3⎞  ⎛  √3   1       3   3⋅√3        5⋅\n",
       "⎢⎜- ─ + ──, c₁ - ──── + ─, -c₁ - ─ + ────⎟, ⎜- ── - ─, c₁ + ─ + ────, -c₁ - ──\n",
       "⎣⎝  2   2         2     2        2    2  ⎠  ⎝  2    2       2    2           2\n",
       "\n",
       "√3   5⎞⎤\n",
       "── - ─⎟⎥\n",
       "     2⎠⎦"
      ]
     },
     "execution_count": 10,
     "metadata": {},
     "output_type": "execute_result"
    }
   ],
   "source": [
    "import sympy as sym\n",
    "sym.init_printing()\n",
    "x,y,z = sym.symbols('x,y,z')\n",
    "c1 = sym.Symbol('c1')\n",
    "f = sym.Eq(2*x**2+y+z,1)\n",
    "g = sym.Eq(x+2*y+z,c1)\n",
    "h = sym.Eq(-2*x+y,-z)\n",
    "\n",
    "sym.solve([f,g,h],(x,y,z))"
   ]
  },
  {
   "cell_type": "markdown",
   "metadata": {},
   "source": [
    "# Daten aus einem file nach python laden"
   ]
  },
  {
   "cell_type": "markdown",
   "metadata": {},
   "source": [
    "In vielen Fällen möchte man Daten, z.B. aus einer Messung, Aufzeichnung, etc, in sein Programm laden und dort weiter verarbeiten. Mit Python kann man dies recht einfach tun."
   ]
  },
  {
   "cell_type": "code",
   "execution_count": 36,
   "metadata": {},
   "outputs": [
    {
     "data": {
      "text/plain": [
       "array([[123. , 110. , 130. , 123. , 124. , 120. , 112.2, 132. , 134. ,\n",
       "        116. , 117. , 118. , 121. , 131. , 109. , 122. , 123. , 113. ,\n",
       "        115. , 124. ],\n",
       "       [113. , 130. , 120. , 121. , 121. , 127. , 118. , 122. , 124. ,\n",
       "        126. , 127. , 128. , 111. , 121. , 119. , 112. , 121. , 116. ,\n",
       "        115. , 127. ],\n",
       "       [123. , 131. , 126. , 121. , 113. , 140. , 123. , 125. , 122. ,\n",
       "        128. , 120. , 121. , 113. , 125. , 119. , 113. , 120. , 113. ,\n",
       "        112. , 128. ]])"
      ]
     },
     "execution_count": 36,
     "metadata": {},
     "output_type": "execute_result"
    }
   ],
   "source": [
    "import numpy\n",
    "numpy.loadtxt(fname='test-data.csv', delimiter=',')"
   ]
  },
  {
   "cell_type": "markdown",
   "metadata": {},
   "source": [
    "Die Daten können nun einer Variable zugewiesen werden:"
   ]
  },
  {
   "cell_type": "code",
   "execution_count": 37,
   "metadata": {},
   "outputs": [
    {
     "name": "stdout",
     "output_type": "stream",
     "text": [
      "[[123.  110.  130.  123.  124.  120.  112.2 132.  134.  116.  117.  118.\n",
      "  121.  131.  109.  122.  123.  113.  115.  124. ]\n",
      " [113.  130.  120.  121.  121.  127.  118.  122.  124.  126.  127.  128.\n",
      "  111.  121.  119.  112.  121.  116.  115.  127. ]\n",
      " [123.  131.  126.  121.  113.  140.  123.  125.  122.  128.  120.  121.\n",
      "  113.  125.  119.  113.  120.  113.  112.  128. ]]\n"
     ]
    }
   ],
   "source": [
    "data = numpy.loadtxt(fname='test-data.csv', delimiter=',')\n",
    "print(data)"
   ]
  },
  {
   "cell_type": "markdown",
   "metadata": {},
   "source": [
    "Jetzt stehen die Daten im Speicher zur Verfügung zur weiteren Verarbeitung."
   ]
  },
  {
   "cell_type": "code",
   "execution_count": 38,
   "metadata": {},
   "outputs": [
    {
     "name": "stdout",
     "output_type": "stream",
     "text": [
      "float64\n",
      "(3, 20)\n"
     ]
    }
   ],
   "source": [
    "print(data.dtype) # Gibt den Datentyp aus\n",
    "print(data.shape) # Gibt aus die Anzahl Zeilen / Anzahl Spalten"
   ]
  },
  {
   "cell_type": "code",
   "execution_count": 45,
   "metadata": {},
   "outputs": [
    {
     "name": "stdout",
     "output_type": "stream",
     "text": [
      "Erster Wert in data: 123.0\n",
      "Zahl an der Position data 0/1: 110.0\n",
      "Datenausschnitt [[123.  110.  130.  123.  124.  120.  112.2 132.  134.  116. ]]\n",
      "a is:\n",
      "[[123. 110. 130.]]\n",
      "b is:\n",
      "[[113. 130. 120.]\n",
      " [123. 131. 126.]]\n"
     ]
    }
   ],
   "source": [
    "print('Erster Wert in data:', data[0, 0])\n",
    "print('Zahl an der Position data 0/1:', data[0,1])  # Reihe 0, spalte 2\n",
    "print('Datenausschnitt', data[0:1, 0:10])\n",
    "\n",
    "a = data[:1, :3]\n",
    "print('a is:')\n",
    "print(a)\n",
    "\n",
    "b = data[1:, :3]\n",
    "print('b is:')\n",
    "print(b)\n"
   ]
  },
  {
   "cell_type": "markdown",
   "metadata": {},
   "source": [
    "Den Mittelwert aus den Daten ermitteln:"
   ]
  },
  {
   "cell_type": "code",
   "execution_count": 40,
   "metadata": {},
   "outputs": [
    {
     "name": "stdout",
     "output_type": "stream",
     "text": [
      "121.20333333333333\n"
     ]
    }
   ],
   "source": [
    "print(numpy.mean(data))\n"
   ]
  },
  {
   "cell_type": "code",
   "execution_count": 47,
   "metadata": {},
   "outputs": [
    {
     "name": "stdout",
     "output_type": "stream",
     "text": [
      "Maximale Größe: 140.0\n",
      "Minimale Größe: 109.0\n",
      "Standardabweichung: 6.307931515164063\n"
     ]
    }
   ],
   "source": [
    "#maxval, minval, stdval = numpy.max(data), numpy.min(data), numpy.std(data)\n",
    "maxval = numpy.max(data)\n",
    "klein = numpy.min(data)\n",
    "\n",
    "print('Maximale Größe:', maxval)\n",
    "print('Minimale Größe:', klein)\n",
    "print('Standardabweichung:', stdval)"
   ]
  },
  {
   "cell_type": "markdown",
   "metadata": {},
   "source": [
    "### CSV daten grafisch darstellen"
   ]
  },
  {
   "cell_type": "code",
   "execution_count": 35,
   "metadata": {},
   "outputs": [
    {
     "data": {
      "image/png": "[encoded data removed]",
      "text/plain": [
       "<Figure size 280x210 with 1 Axes>"
      ]
     },
     "metadata": {
      "needs_background": "light"
     },
     "output_type": "display_data"
    }
   ],
   "source": [
    "#!/usr/bin/env python3\n",
    "# -*- coding: utf-8 -*-\n",
    "\"\"\"\n",
    "Created on Sun Dec  8 17:02:56 2019\n",
    "\n",
    "@author: derosa\n",
    "\"\"\"\n",
    "\n",
    "import matplotlib.pyplot as plt\n",
    "import pandas as pandas\n",
    "import numpy as np\n",
    "\n",
    "w = 4\n",
    "h = 3\n",
    "d = 70\n",
    "plt.figure(figsize=(w, h), dpi=d)\n",
    "my_data = np.genfromtxt(\n",
    "    \"my_data.csv\", names=True,\n",
    "    dtype=\"float\", delimiter=\",\")\n",
    "\n",
    "plt.plot(my_data[\"Net_Score\"], my_data[\"Number_of_Retweets\"], \".\")\n",
    "plt.savefig(\"out.png\")"
   ]
  },
  {
   "cell_type": "code",
   "execution_count": 24,
   "metadata": {},
   "outputs": [
    {
     "data": {
      "image/png": "[encoded data removed]",
      "text/plain": [
       "<Figure size 432x288 with 1 Axes>"
      ]
     },
     "metadata": {
      "needs_background": "light"
     },
     "output_type": "display_data"
    }
   ],
   "source": [
    "import pandas as pd\n",
    "import matplotlib.pyplot as plt\n",
    "\n",
    "df = pd.read_csv('my_data.csv')\n",
    "#df = df.set_index('Number_of_Retweets')\n",
    "\n",
    "fig, ax = plt.subplots()\n",
    "df.plot(kind='bar', ax=ax)\n",
    "ax.grid(color='gray', linestyle='-', alpha=0.5)"
   ]
  },
  {
   "cell_type": "code",
   "execution_count": null,
   "metadata": {},
   "outputs": [],
   "source": []
  }
 ],
 "metadata": {
  "kernelspec": {
   "display_name": "Python 3",
   "language": "python",
   "name": "python3"
  },
  "language_info": {
   "codemirror_mode": {
    "name": "ipython",
    "version": 3
   },
   "file_extension": ".py",
   "mimetype": "text/x-python",
   "name": "python",
   "nbconvert_exporter": "python",
   "pygments_lexer": "ipython3",
   "version": "3.7.0"
  }
 },
 "nbformat": 4,
 "nbformat_minor": 2
}
